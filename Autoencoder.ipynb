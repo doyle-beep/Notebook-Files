{
 "cells": [
  {
   "cell_type": "code",
   "execution_count": null,
   "id": "5dd0c7ed-9a8f-43d2-9cac-da5bfbd0e8db",
   "metadata": {},
   "outputs": [],
   "source": []
  }
 ],
 "metadata": {
  "kernelspec": {
   "display_name": "",
   "name": ""
  },
  "language_info": {
   "name": ""
  }
 },
 "nbformat": 4,
 "nbformat_minor": 5
}
